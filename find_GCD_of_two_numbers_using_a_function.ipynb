{
  "nbformat": 4,
  "nbformat_minor": 0,
  "metadata": {
    "colab": {
      "provenance": []
    },
    "kernelspec": {
      "name": "python3",
      "display_name": "Python 3"
    },
    "language_info": {
      "name": "python"
    }
  },
  "cells": [
    {
      "cell_type": "code",
      "execution_count": null,
      "metadata": {
        "id": "0IG3RExBhnEG"
      },
      "outputs": [],
      "source": [
        "def gcd(a, b):\n",
        "  while b:\n",
        "    a, b = b, a % b\n",
        "  return a\n",
        "num1 = int(input(\"Enter the first number: \"))\n",
        "num2 = int(input(\"Enter the second number: \"))\n",
        "print(\"GCD:\", gcd(num1, num2))\n"
      ]
    }
  ]
}