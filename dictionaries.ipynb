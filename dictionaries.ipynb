{
  "nbformat": 4,
  "nbformat_minor": 0,
  "metadata": {
    "colab": {
      "provenance": []
    },
    "kernelspec": {
      "name": "python3",
      "display_name": "Python 3"
    },
    "language_info": {
      "name": "python"
    }
  },
  "cells": [
    {
      "cell_type": "code",
      "source": [
        "#creating a dictionary\n",
        "student={\n",
        "    \"name\":\"alice\",\n",
        "    \"age\":20,\n",
        "    \"marks\":85\n",
        "}\n",
        "student"
      ],
      "metadata": {
        "id": "_zoUvoATtBhg"
      },
      "execution_count": null,
      "outputs": []
    },
    {
      "cell_type": "code",
      "source": [
        "#accessing\n",
        "print(student[\"name\"])\n",
        "student"
      ],
      "metadata": {
        "id": "Nw4ghO7TtFkg"
      },
      "execution_count": null,
      "outputs": []
    },
    {
      "cell_type": "code",
      "source": [
        "#modifying\n",
        "student[\"age\"]=21\n",
        "student"
      ],
      "metadata": {
        "id": "KrO3pW0ZtIdQ"
      },
      "execution_count": null,
      "outputs": []
    },
    {
      "cell_type": "code",
      "source": [
        "#removing\n",
        "del student[\"marks\"]\n",
        "student"
      ],
      "metadata": {
        "id": "PcbEweiotKio"
      },
      "execution_count": null,
      "outputs": []
    },
    {
      "cell_type": "code",
      "source": [
        "#iterating through a dictionary\n",
        "for key,value in student.items():\n",
        "  print(key,value)"
      ],
      "metadata": {
        "id": "pdkxfB9-tN1j"
      },
      "execution_count": null,
      "outputs": []
    }
  ]
}