{
  "nbformat": 4,
  "nbformat_minor": 0,
  "metadata": {
    "colab": {
      "provenance": []
    },
    "kernelspec": {
      "name": "python3",
      "display_name": "Python 3"
    },
    "language_info": {
      "name": "python"
    }
  },
  "cells": [
    {
      "cell_type": "code",
      "source": [
        "#function syntax\n",
        "def greet(name):\n",
        "  print(\"hello,\"+name+\"!\")\n",
        "\n",
        "greet(\"alice\")"
      ],
      "metadata": {
        "id": "OW5DYVXa_h72"
      },
      "execution_count": null,
      "outputs": []
    }
  ]
}