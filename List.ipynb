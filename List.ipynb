{
  "nbformat": 4,
  "nbformat_minor": 0,
  "metadata": {
    "colab": {
      "provenance": []
    },
    "kernelspec": {
      "name": "python3",
      "display_name": "Python 3"
    },
    "language_info": {
      "name": "python"
    }
  },
  "cells": [
    {
      "cell_type": "code",
      "execution_count": null,
      "metadata": {
        "id": "38sUtX79rcTa"
      },
      "outputs": [],
      "source": [
        "#creating list\n",
        "number=[1,2,3,4,5]\n",
        "mixed=[1,\"hello\",3.14]"
      ]
    },
    {
      "cell_type": "code",
      "source": [
        "#accessing items\n",
        "print(number[0])\n",
        "print(number[-1])"
      ],
      "metadata": {
        "id": "l9UiJgW4rj0i"
      },
      "execution_count": null,
      "outputs": []
    },
    {
      "cell_type": "code",
      "source": [
        "#modifying items\n",
        "number[0]=10\n",
        "print(number)"
      ],
      "metadata": {
        "id": "Qx7g2KKirmjy"
      },
      "execution_count": null,
      "outputs": []
    },
    {
      "cell_type": "code",
      "source": [
        "#adding items\n",
        "number.append(6)\n",
        "print(number)"
      ],
      "metadata": {
        "id": "UksVHaiWroqJ"
      },
      "execution_count": null,
      "outputs": []
    },
    {
      "cell_type": "code",
      "source": [
        "number.insert(-2,15)\n",
        "print(number)"
      ],
      "metadata": {
        "id": "5406ukxVrrJ5"
      },
      "execution_count": null,
      "outputs": []
    },
    {
      "cell_type": "code",
      "source": [
        "#remove()\n",
        "number.remove(3)\n",
        "number"
      ],
      "metadata": {
        "id": "4l_q13w6rwzJ"
      },
      "execution_count": null,
      "outputs": []
    },
    {
      "cell_type": "code",
      "source": [
        "#pop()\n",
        "number.pop(4)\n",
        "number"
      ],
      "metadata": {
        "id": "Gzi2YP68r0e5"
      },
      "execution_count": null,
      "outputs": []
    },
    {
      "cell_type": "code",
      "source": [
        "#len()\n",
        "len(number)"
      ],
      "metadata": {
        "id": "sa0raBwrr3gy"
      },
      "execution_count": null,
      "outputs": []
    },
    {
      "cell_type": "code",
      "source": [
        "#sort\n",
        "number.sort()\n",
        "number"
      ],
      "metadata": {
        "id": "fBWPpAYrr4Gp"
      },
      "execution_count": null,
      "outputs": []
    },
    {
      "cell_type": "code",
      "source": [
        "#reverse\n",
        "number.reverse()\n",
        "number"
      ],
      "metadata": {
        "id": "1fqMuBwfr8B7"
      },
      "execution_count": null,
      "outputs": []
    },
    {
      "cell_type": "code",
      "source": [
        "#iterating through a list\n",
        "for i in number:\n",
        "  print(i)\n"
      ],
      "metadata": {
        "id": "Vktt27oEr-Yw"
      },
      "execution_count": null,
      "outputs": []
    }
  ]
}