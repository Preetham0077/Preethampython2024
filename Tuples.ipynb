{
  "nbformat": 4,
  "nbformat_minor": 0,
  "metadata": {
    "colab": {
      "provenance": []
    },
    "kernelspec": {
      "name": "python3",
      "display_name": "Python 3"
    },
    "language_info": {
      "name": "python"
    }
  },
  "cells": [
    {
      "cell_type": "code",
      "execution_count": null,
      "metadata": {
        "id": "ahfuF8zLsPK_"
      },
      "outputs": [],
      "source": [
        "#creating a tuple\n",
        "coordinates=(10,20,30)\n",
        "coordinates"
      ]
    },
    {
      "cell_type": "code",
      "source": [
        "#accessing items in a tuple\n",
        "print(coordinates[0])"
      ],
      "metadata": {
        "id": "iNT2RHAfsT0N"
      },
      "execution_count": null,
      "outputs": []
    }
  ]
}