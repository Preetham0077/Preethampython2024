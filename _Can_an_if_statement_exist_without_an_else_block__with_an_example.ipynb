{
  "nbformat": 4,
  "nbformat_minor": 0,
  "metadata": {
    "colab": {
      "provenance": []
    },
    "kernelspec": {
      "name": "python3",
      "display_name": "Python 3"
    },
    "language_info": {
      "name": "python"
    }
  },
  "cells": [
    {
      "cell_type": "markdown",
      "source": [
        "--Yes, an if statement can exist without an else block."
      ],
      "metadata": {
        "id": "VtOhhHqcOAvd"
      }
    },
    {
      "cell_type": "code",
      "execution_count": null,
      "metadata": {
        "id": "2E2q8-e1NxvJ"
      },
      "outputs": [],
      "source": [
        "num=7\n",
        "if num>0:\n",
        "  print(\"enter positive number\")\n",
        "\n",
        "print(\"enter negative number\")"
      ]
    }
  ]
}