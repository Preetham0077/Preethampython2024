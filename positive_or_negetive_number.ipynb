{
  "nbformat": 4,
  "nbformat_minor": 0,
  "metadata": {
    "colab": {
      "provenance": []
    },
    "kernelspec": {
      "name": "python3",
      "display_name": "Python 3"
    },
    "language_info": {
      "name": "python"
    }
  },
  "cells": [
    {
      "cell_type": "code",
      "execution_count": null,
      "metadata": {
        "id": "oZI6cRzho9_N"
      },
      "outputs": [],
      "source": [
        "a=int(input(\"enter a number\"))\n",
        "if a>0:\n",
        "  print(\"positive number\")\n",
        "elif a<0:\n",
        "  print(\"negetive number\")\n",
        "else:\n",
        "  print(\"zero\")"
      ]
    }
  ]
}