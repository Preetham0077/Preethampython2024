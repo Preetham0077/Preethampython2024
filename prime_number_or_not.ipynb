{
  "nbformat": 4,
  "nbformat_minor": 0,
  "metadata": {
    "colab": {
      "provenance": []
    },
    "kernelspec": {
      "name": "python3",
      "display_name": "Python 3"
    },
    "language_info": {
      "name": "python"
    }
  },
  "cells": [
    {
      "cell_type": "code",
      "execution_count": null,
      "metadata": {
        "id": "ilQzoCvGZdT2"
      },
      "outputs": [],
      "source": [
        "def is_prime(num):\n",
        "  if num<=1:\n",
        "    return False\n",
        "  for i in range(2,int(num**0.5)+1):\n",
        "    if num% i==0:\n",
        "      return False\n",
        "  return True\n",
        "\n",
        "number=int(input(\"enter a number:\"))\n",
        "if is_prime(number):\n",
        "  print(\"the number is prime.\")\n",
        "else:\n",
        "  print(\"the number is not prime.\")"
      ]
    },
    {
      "cell_type": "code",
      "source": [],
      "metadata": {
        "id": "dnNQtul8Zi1C"
      },
      "execution_count": null,
      "outputs": []
    }
  ]
}