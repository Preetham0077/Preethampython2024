{
  "nbformat": 4,
  "nbformat_minor": 0,
  "metadata": {
    "colab": {
      "provenance": []
    },
    "kernelspec": {
      "name": "python3",
      "display_name": "Python 3"
    },
    "language_info": {
      "name": "python"
    }
  },
  "cells": [
    {
      "cell_type": "code",
      "execution_count": null,
      "metadata": {
        "id": "sDI6Qdjsn2JQ"
      },
      "outputs": [],
      "source": [
        "number=int(input(\"enter a number:\"))\n",
        "reverse_number=0\n",
        "tem=number\n",
        "\n",
        "while tem>0:\n",
        "  digit=tem%10\n",
        "  reverse_number=reverse_number*10+digit\n",
        "  tem=tem//10\n",
        "\n",
        "if number==reverse_number:\n",
        "  print(f\" (number)palindrome\")\n",
        "else:\n",
        "  print(f\"(number)not palindrome\")"
      ]
    }
  ]
}