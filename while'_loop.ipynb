{
  "nbformat": 4,
  "nbformat_minor": 0,
  "metadata": {
    "colab": {
      "provenance": []
    },
    "kernelspec": {
      "name": "python3",
      "display_name": "Python 3"
    },
    "language_info": {
      "name": "python"
    }
  },
  "cells": [
    {
      "cell_type": "code",
      "execution_count": null,
      "metadata": {
        "id": "7WUMd1k9STx5"
      },
      "outputs": [],
      "source": [
        "count=0\n",
        "while count<5:\n",
        "  print(\"count\",count)\n",
        "  count+=1"
      ]
    }
  ]
}