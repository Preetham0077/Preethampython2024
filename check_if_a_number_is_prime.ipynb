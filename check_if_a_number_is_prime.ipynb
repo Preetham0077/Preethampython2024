{
  "nbformat": 4,
  "nbformat_minor": 0,
  "metadata": {
    "colab": {
      "provenance": []
    },
    "kernelspec": {
      "name": "python3",
      "display_name": "Python 3"
    },
    "language_info": {
      "name": "python"
    }
  },
  "cells": [
    {
      "cell_type": "code",
      "execution_count": null,
      "metadata": {
        "id": "BO06y_f0gbav"
      },
      "outputs": [],
      "source": [
        "def is_prime(n):\n",
        "  if n<=1:\n",
        "    return False\n",
        "  for i in range(2,int(n**0.5)+1):\n",
        "    if n%i==0:\n",
        "      return False\n",
        "  return True\n",
        "\n",
        "num=int(input(\"enter a number:\"))\n",
        "if is_prime(num):\n",
        "  print(\"prime number\")\n",
        "else:\n",
        "  print(\"not a prime number\")"
      ]
    }
  ]
}