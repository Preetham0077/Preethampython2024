{
  "nbformat": 4,
  "nbformat_minor": 0,
  "metadata": {
    "colab": {
      "provenance": []
    },
    "kernelspec": {
      "name": "python3",
      "display_name": "Python 3"
    },
    "language_info": {
      "name": "python"
    }
  },
  "cells": [
    {
      "cell_type": "code",
      "execution_count": null,
      "metadata": {
        "id": "lEOfUdB0qcWN"
      },
      "outputs": [],
      "source": [
        "book={\n",
        "    \"tittle\":\"python basics\",\n",
        "    \"author\":\"John doe\",\n",
        "    \"year\":2021\n",
        "}\n",
        "print(book[\"tittle\"])\n",
        "book[\"year\"]=2022\n",
        "print(book)"
      ]
    }
  ]
}