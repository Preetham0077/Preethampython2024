{
  "nbformat": 4,
  "nbformat_minor": 0,
  "metadata": {
    "colab": {
      "provenance": []
    },
    "kernelspec": {
      "name": "python3",
      "display_name": "Python 3"
    },
    "language_info": {
      "name": "python"
    }
  },
  "cells": [
    {
      "cell_type": "code",
      "execution_count": null,
      "metadata": {
        "id": "C5PlhCdfAMK-"
      },
      "outputs": [],
      "source": [
        "def check_age(age):\n",
        "  if age<18:\n",
        "    raise ValueError(\"Age must be 18 or order.\")\n",
        "  return True\n",
        "try:\n",
        "  check_age(16)\n",
        "except ValueError as e:\n",
        "  print(e)"
      ]
    }
  ]
}