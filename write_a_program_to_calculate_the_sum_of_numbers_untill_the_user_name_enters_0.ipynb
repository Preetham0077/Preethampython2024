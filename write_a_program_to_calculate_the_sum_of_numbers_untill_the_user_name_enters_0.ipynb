{
  "nbformat": 4,
  "nbformat_minor": 0,
  "metadata": {
    "colab": {
      "provenance": []
    },
    "kernelspec": {
      "name": "python3",
      "display_name": "Python 3"
    },
    "language_info": {
      "name": "python"
    }
  },
  "cells": [
    {
      "cell_type": "code",
      "execution_count": null,
      "metadata": {
        "id": "V5Lsl8OvO4N9"
      },
      "outputs": [],
      "source": [
        "total_sum=0\n",
        "while True:\n",
        "  num=int(input(\"enter a number(enter 0 to stop): \"))\n",
        "  if num==0:\n",
        "    break\n",
        "    total_sum+=num\n",
        "\n",
        "print(\"the sum of the number is:\",total_sum)"
      ]
    }
  ]
}