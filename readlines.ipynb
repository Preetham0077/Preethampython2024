{
  "nbformat": 4,
  "nbformat_minor": 0,
  "metadata": {
    "colab": {
      "provenance": []
    },
    "kernelspec": {
      "name": "python3",
      "display_name": "Python 3"
    },
    "language_info": {
      "name": "python"
    }
  },
  "cells": [
    {
      "cell_type": "code",
      "execution_count": null,
      "metadata": {
        "id": "NL24tGVQ9LQ5"
      },
      "outputs": [],
      "source": [
        "file=open(\"/content/preeth.txt\",\"r\")\n",
        "content=file.readlines()\n",
        "print(content)\n",
        "file.close"
      ]
    }
  ]
}