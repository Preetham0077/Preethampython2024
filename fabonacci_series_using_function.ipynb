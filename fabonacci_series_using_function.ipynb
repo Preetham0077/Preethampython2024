{
  "nbformat": 4,
  "nbformat_minor": 0,
  "metadata": {
    "colab": {
      "provenance": []
    },
    "kernelspec": {
      "name": "python3",
      "display_name": "Python 3"
    },
    "language_info": {
      "name": "python"
    }
  },
  "cells": [
    {
      "cell_type": "code",
      "execution_count": null,
      "metadata": {
        "id": "h_gRBMltbY6p"
      },
      "outputs": [],
      "source": [
        "def fibonacci(n):\n",
        "  a,b=0,1\n",
        "  for i in range(n):\n",
        "    print(a,end=\" \")\n",
        "    a,b=b,a+b\n",
        "count=int(input(\"enter the number of terms:\"))\n",
        "fibonacci(count)\n"
      ]
    }
  ]
}