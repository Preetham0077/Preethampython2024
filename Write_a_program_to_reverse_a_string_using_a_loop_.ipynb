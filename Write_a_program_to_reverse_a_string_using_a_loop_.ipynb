{
  "nbformat": 4,
  "nbformat_minor": 0,
  "metadata": {
    "colab": {
      "provenance": []
    },
    "kernelspec": {
      "name": "python3",
      "display_name": "Python 3"
    },
    "language_info": {
      "name": "python"
    }
  },
  "cells": [
    {
      "cell_type": "code",
      "source": [
        "original_string = input(\"Enter a string: \")\n",
        "\n",
        "reversed_string = \"\"\n",
        "for char in original_string:\n",
        "    reversed_string = char + reversed_string\n",
        "print(\"Reversed string:\", reversed_string)\n"
      ],
      "metadata": {
        "id": "98MCyx1bPlmi"
      },
      "execution_count": null,
      "outputs": []
    }
  ]
}