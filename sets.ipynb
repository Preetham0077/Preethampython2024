{
  "nbformat": 4,
  "nbformat_minor": 0,
  "metadata": {
    "colab": {
      "provenance": []
    },
    "kernelspec": {
      "name": "python3",
      "display_name": "Python 3"
    },
    "language_info": {
      "name": "python"
    }
  },
  "cells": [
    {
      "cell_type": "code",
      "execution_count": null,
      "metadata": {
        "id": "KQIvJ8Yiv_Jj"
      },
      "outputs": [],
      "source": [
        "#creating sets\n",
        "numbers={1,2,3,4,5}\n",
        "numbers"
      ]
    },
    {
      "cell_type": "code",
      "source": [
        "#adding items\n",
        "numbers.add(6)\n",
        "numbers"
      ],
      "metadata": {
        "id": "d10S2h6qwEtn"
      },
      "execution_count": null,
      "outputs": []
    },
    {
      "cell_type": "code",
      "source": [
        "#removing items\n",
        "numbers.remove(3)\n",
        "numbers"
      ],
      "metadata": {
        "id": "sPYCgeoKwGrG"
      },
      "execution_count": null,
      "outputs": []
    },
    {
      "cell_type": "markdown",
      "source": [
        "set operation"
      ],
      "metadata": {
        "id": "i1OMn5fwwL-6"
      }
    },
    {
      "cell_type": "code",
      "source": [
        "set1={1,2,4,5}\n",
        "set1"
      ],
      "metadata": {
        "id": "ptSsRvqWwIsI"
      },
      "execution_count": null,
      "outputs": []
    },
    {
      "cell_type": "code",
      "source": [
        "set2={2,3,4,6}\n",
        "set2"
      ],
      "metadata": {
        "id": "fMcdCUEawXhG"
      },
      "execution_count": null,
      "outputs": []
    },
    {
      "cell_type": "code",
      "source": [
        "set1 | set2"
      ],
      "metadata": {
        "id": "sk8H0VtKwaMG"
      },
      "execution_count": null,
      "outputs": []
    },
    {
      "cell_type": "code",
      "source": [
        "set1 & set2"
      ],
      "metadata": {
        "id": "p_lmF1yOwc_W"
      },
      "execution_count": null,
      "outputs": []
    },
    {
      "cell_type": "code",
      "source": [
        "set1 - set2"
      ],
      "metadata": {
        "id": "gfx__Jd1wiqe"
      },
      "execution_count": null,
      "outputs": []
    }
  ]
}