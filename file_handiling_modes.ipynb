{
  "nbformat": 4,
  "nbformat_minor": 0,
  "metadata": {
    "colab": {
      "provenance": []
    },
    "kernelspec": {
      "name": "python3",
      "display_name": "Python 3"
    },
    "language_info": {
      "name": "python"
    }
  },
  "cells": [
    {
      "cell_type": "code",
      "execution_count": null,
      "metadata": {
        "id": "at2wgRxk_WT9"
      },
      "outputs": [],
      "source": [
        "with open(\"/content/1234567.jpg\",\"rb\")as file:\n",
        "  data=file.read()"
      ]
    }
  ]
}