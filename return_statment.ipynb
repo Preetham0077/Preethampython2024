{
  "nbformat": 4,
  "nbformat_minor": 0,
  "metadata": {
    "colab": {
      "provenance": []
    },
    "kernelspec": {
      "name": "python3",
      "display_name": "Python 3"
    },
    "language_info": {
      "name": "python"
    }
  },
  "cells": [
    {
      "cell_type": "code",
      "execution_count": null,
      "metadata": {
        "id": "_dr4Pdi8BhBp"
      },
      "outputs": [],
      "source": [
        "def square(num):\n",
        "  return num*num\n",
        "\n",
        "square(5)"
      ]
    }
  ]
}