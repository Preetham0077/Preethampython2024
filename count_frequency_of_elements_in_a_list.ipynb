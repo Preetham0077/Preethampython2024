{
  "nbformat": 4,
  "nbformat_minor": 0,
  "metadata": {
    "colab": {
      "provenance": []
    },
    "kernelspec": {
      "name": "python3",
      "display_name": "Python 3"
    },
    "language_info": {
      "name": "python"
    }
  },
  "cells": [
    {
      "cell_type": "code",
      "execution_count": null,
      "metadata": {
        "id": "dQgKCLyinUh2"
      },
      "outputs": [],
      "source": [
        "numbers=[1,2,2,3,3,3,4,4,4,4]\n",
        "frequency={}\n",
        "for num in numbers:\n",
        "  frequency[num]=frequency.get(num,0)+1\n",
        "  print(\"frequency of elements:\",frequency)"
      ]
    }
  ]
}