{
  "nbformat": 4,
  "nbformat_minor": 0,
  "metadata": {
    "colab": {
      "provenance": []
    },
    "kernelspec": {
      "name": "python3",
      "display_name": "Python 3"
    },
    "language_info": {
      "name": "python"
    }
  },
  "cells": [
    {
      "cell_type": "code",
      "execution_count": null,
      "metadata": {
        "id": "FljUJYxXg1uq"
      },
      "outputs": [],
      "source": [
        "def reverse_string(s):\n",
        "  return s[::-1]\n",
        "text=input(\"enter a  string:\")\n",
        "print(\"reversed string:\",reverse_string(text))"
      ]
    }
  ]
}