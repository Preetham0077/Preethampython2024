{
  "nbformat": 4,
  "nbformat_minor": 0,
  "metadata": {
    "colab": {
      "provenance": []
    },
    "kernelspec": {
      "name": "python3",
      "display_name": "Python 3"
    },
    "language_info": {
      "name": "python"
    }
  },
  "cells": [
    {
      "cell_type": "code",
      "source": [
        "with open(\"/content/preeth.txt\",\"r\")as file:\n",
        "  content=file.read()\n",
        "  print(content)"
      ],
      "metadata": {
        "id": "hkZGjgSb_HGX"
      },
      "execution_count": null,
      "outputs": []
    }
  ]
}