{
  "nbformat": 4,
  "nbformat_minor": 0,
  "metadata": {
    "colab": {
      "provenance": []
    },
    "kernelspec": {
      "name": "python3",
      "display_name": "Python 3"
    },
    "language_info": {
      "name": "python"
    }
  },
  "cells": [
    {
      "cell_type": "code",
      "execution_count": null,
      "metadata": {
        "id": "o2mh_LR3Zwtc"
      },
      "outputs": [],
      "source": [
        "def fibonacci(n):\n",
        "  sequence=[]\n",
        "  a,b=0,1\n",
        "  for i in range(n):\n",
        "    sequence.append(a)\n",
        "    a,b=b,a+b\n",
        "  return sequence\n",
        "\n",
        "terms=int(input(\"enter the number of terms:\"))\n",
        "print(\"fibonacci sequence:\",fibonacci(terms))\n"
      ]
    }
  ]
}