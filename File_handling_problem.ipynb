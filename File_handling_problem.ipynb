{
  "nbformat": 4,
  "nbformat_minor": 0,
  "metadata": {
    "colab": {
      "provenance": []
    },
    "kernelspec": {
      "name": "python3",
      "display_name": "Python 3"
    },
    "language_info": {
      "name": "python"
    }
  },
  "cells": [
    {
      "cell_type": "markdown",
      "source": [
        "1.create and write to a file\n",
        "\n",
        "write a program to create a file named data.txt and write the string \"hello\",world!\" into it.\n"
      ],
      "metadata": {
        "id": "p2cuL-wkq5dU"
      }
    },
    {
      "cell_type": "code",
      "source": [
        "with open(\"/content/preeth.txt\", \"w\") as file:\n",
        "    file.write(\"hello, world!\")"
      ],
      "metadata": {
        "id": "WgZjCzy0q8zl"
      },
      "execution_count": null,
      "outputs": []
    },
    {
      "cell_type": "markdown",
      "source": [
        "2.Read from a file\n",
        "\n",
        "open data.txt and display its contents on the screen"
      ],
      "metadata": {
        "id": "HR3hJVUwq_rD"
      }
    },
    {
      "cell_type": "code",
      "source": [
        "with open(\"/content/preeth.txt\", \"r\") as file:\n",
        "    content = file.read()\n",
        "    print(content)\n"
      ],
      "metadata": {
        "id": "02BAz9KDrC2G"
      },
      "execution_count": null,
      "outputs": []
    },
    {
      "cell_type": "markdown",
      "source": [
        "3.Append to a file\n",
        "\n",
        "add the text \"Welcome to python programming!\"to data.txt"
      ],
      "metadata": {
        "id": "2uJz9NEIrFcn"
      }
    },
    {
      "cell_type": "code",
      "source": [
        "with open(\"/content/preeth.txt\", \"a\") as file:\n",
        "    file.write(\"Welcome to python programming!\")"
      ],
      "metadata": {
        "id": "qMooXf1zrIVt"
      },
      "execution_count": null,
      "outputs": []
    },
    {
      "cell_type": "markdown",
      "source": [
        "4.count lines in a file\n",
        "\n",
        "count the number of lines in data.txt"
      ],
      "metadata": {
        "id": "fCW1V0GQrMos"
      }
    },
    {
      "cell_type": "code",
      "source": [
        "with open(\"/content/preeth.txt\", \"r\") as file:\n",
        "    line_count = 0\n",
        "    for line in file:\n",
        "        line_count += 1\n",
        "\n",
        "print(f\"The file has {line_count} lines.\")"
      ],
      "metadata": {
        "id": "3LFPkOSNrSa2"
      },
      "execution_count": null,
      "outputs": []
    },
    {
      "cell_type": "markdown",
      "source": [
        "5.count words in a file\n",
        "\n",
        "write a program to count the number of words in data.txt"
      ],
      "metadata": {
        "id": "SZg1V8fvrWIs"
      }
    },
    {
      "cell_type": "code",
      "source": [
        "with open(\"/content/preeth.txt\", \"r\") as file:\n",
        "    content = file.read()\n",
        "    words = content.split()\n",
        "    word_count = len(words)\n",
        "\n",
        "print(f\"The file has {word_count} words.\")"
      ],
      "metadata": {
        "id": "anBBuwYCrY6U"
      },
      "execution_count": null,
      "outputs": []
    },
    {
      "cell_type": "markdown",
      "source": [
        "6.copy file contents\n",
        "\n",
        "create a program that copies the contents of data.txt to a new file called copy.txt"
      ],
      "metadata": {
        "id": "W3w0CEbkrmNM"
      }
    },
    {
      "cell_type": "code",
      "source": [
        "with open(\"/content/preeth.txt\", \"r\") as source_file, open(\"/content/preeth.txt\", \"w\") as destination_file:\n",
        "    destination_file.write(source_file.read())"
      ],
      "metadata": {
        "id": "fv5-7_Ilrp7-"
      },
      "execution_count": null,
      "outputs": []
    },
    {
      "cell_type": "markdown",
      "source": [
        "7.Check if file exists\n",
        "\n",
        "check if a file named data.txt exists in the current directory"
      ],
      "metadata": {
        "id": "3VFEQJUYrsJM"
      }
    },
    {
      "cell_type": "code",
      "source": [
        "import os\n",
        "\n",
        "file_path = \"/content/preeth.txt\"\n",
        "\n",
        "if os.path.exists(file_path):\n",
        "    print(\"The file exists.\")\n",
        "else:\n",
        "    print(\"The file does not exist.\")"
      ],
      "metadata": {
        "id": "eaphTr45rv0d"
      },
      "execution_count": null,
      "outputs": []
    },
    {
      "cell_type": "markdown",
      "source": [
        "8.Read file line by line\n",
        "\n",
        "Read data.txt line by line and print each line"
      ],
      "metadata": {
        "id": "DOU1nODlryxc"
      }
    },
    {
      "cell_type": "code",
      "source": [
        "with open(\"/content/preeth.txt\", \"r\") as file:\n",
        "    for line in file:\n",
        "        print(line, end=\"\")"
      ],
      "metadata": {
        "id": "5GfgGGoBr9ms"
      },
      "execution_count": null,
      "outputs": []
    },
    {
      "cell_type": "markdown",
      "source": [
        "9.Search for a word in a file\n",
        "\n",
        "write a program to search  for the word \"Python\" in data.txt and print the line where it apppears"
      ],
      "metadata": {
        "id": "4LTnULDvsB0t"
      }
    },
    {
      "cell_type": "code",
      "source": [
        "with open(\"/content/preeth.txt\", \"r\") as file:\n",
        "    for line in file:\n",
        "        if \"Python\" in line:\n",
        "            print(line, end=\"\")\n",
        "            break"
      ],
      "metadata": {
        "id": "JfehHQ3jsGKc"
      },
      "execution_count": null,
      "outputs": []
    },
    {
      "cell_type": "markdown",
      "source": [
        "10.Write a list to a file\n",
        "\n",
        "write a list of numbers [1,2,3,4,5] to a file named numbers.txt."
      ],
      "metadata": {
        "id": "ibAN-E7XsJDU"
      }
    },
    {
      "cell_type": "code",
      "source": [
        "numbers = [1, 2, 3, 4, 5]\n",
        "\n",
        "with open(\"numbers.txt\", \"w\") as file:\n",
        "    for number in numbers:\n",
        "        file.write(str(number) + \"\\n\")"
      ],
      "metadata": {
        "id": "Yj8djrDVsMac"
      },
      "execution_count": null,
      "outputs": []
    },
    {
      "cell_type": "markdown",
      "source": [
        "11.Reverse file contents\n",
        "\n",
        "read data.txt and write its contents in reverse order to a file named reverse.txt"
      ],
      "metadata": {
        "id": "c5HhO3HmsRL8"
      }
    },
    {
      "cell_type": "code",
      "source": [
        "with open(\"/content/preeth.txt\", \"r\") as file:\n",
        "    content = file.read()\n",
        "\n",
        "reversed_content = content[::-1]\n",
        "\n",
        "with open(\"reverse.txt\", \"w\") as reversed_file:\n",
        "    reversed_file.write(reversed_content)"
      ],
      "metadata": {
        "id": "GT_2PGemsVBy"
      },
      "execution_count": null,
      "outputs": []
    }
  ]
}