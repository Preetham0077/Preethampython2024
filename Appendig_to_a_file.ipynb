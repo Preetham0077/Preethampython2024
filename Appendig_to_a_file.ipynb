{
  "nbformat": 4,
  "nbformat_minor": 0,
  "metadata": {
    "colab": {
      "provenance": []
    },
    "kernelspec": {
      "name": "python3",
      "display_name": "Python 3"
    },
    "language_info": {
      "name": "python"
    }
  },
  "cells": [
    {
      "cell_type": "code",
      "execution_count": null,
      "metadata": {
        "id": "vYVV1_85-0ai"
      },
      "outputs": [],
      "source": [
        "file=open(\"/content/preeth.txt\",\"a\")\n",
        "file.write(\"this is an appended line.\\n\")\n",
        "file.close()"
      ]
    }
  ]
}