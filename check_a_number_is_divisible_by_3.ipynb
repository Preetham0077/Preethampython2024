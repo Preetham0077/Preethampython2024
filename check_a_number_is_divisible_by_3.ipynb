{
  "nbformat": 4,
  "nbformat_minor": 0,
  "metadata": {
    "colab": {
      "provenance": []
    },
    "kernelspec": {
      "name": "python3",
      "display_name": "Python 3"
    },
    "language_info": {
      "name": "python"
    }
  },
  "cells": [
    {
      "cell_type": "code",
      "execution_count": null,
      "metadata": {
        "id": "0Hv9tI9SNXk4"
      },
      "outputs": [],
      "source": [
        "dvd=int(input(\"enter a number\"))\n",
        "if dvd/3:\n",
        "  print(\"dvd is divisible by 3\")\n",
        "else:\n",
        "  print(\"dvd is not divisible by 3\")"
      ]
    }
  ]
}