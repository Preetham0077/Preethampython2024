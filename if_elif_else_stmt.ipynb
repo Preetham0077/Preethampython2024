{
  "nbformat": 4,
  "nbformat_minor": 0,
  "metadata": {
    "colab": {
      "provenance": []
    },
    "kernelspec": {
      "name": "python3",
      "display_name": "Python 3"
    },
    "language_info": {
      "name": "python"
    }
  },
  "cells": [
    {
      "cell_type": "code",
      "execution_count": null,
      "metadata": {
        "id": "Bv9NAP0UQx3e"
      },
      "outputs": [],
      "source": [
        "marks=int(input(\"enter your marks\"))\n",
        "if marks>=90:\n",
        "  print(\"grade:a\")\n",
        "elif marks>=75:\n",
        "  print(\"grade:b\")\n",
        "elif marks>=50:\n",
        "  print(\"grade:c\")\n",
        "else:\n",
        "  print(\"grade:f\")"
      ]
    }
  ]
}