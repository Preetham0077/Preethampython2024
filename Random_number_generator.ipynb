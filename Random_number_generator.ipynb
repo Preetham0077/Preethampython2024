{
  "nbformat": 4,
  "nbformat_minor": 0,
  "metadata": {
    "colab": {
      "provenance": []
    },
    "kernelspec": {
      "name": "python3",
      "display_name": "Python 3"
    },
    "language_info": {
      "name": "python"
    }
  },
  "cells": [
    {
      "cell_type": "code",
      "execution_count": null,
      "metadata": {
        "id": "bzg2FnjtbbQk"
      },
      "outputs": [],
      "source": [
        "import random\n",
        "random_number = random.randint(1, 6)\n",
        "print(\"The random number is:\", random_number)"
      ]
    }
  ]
}