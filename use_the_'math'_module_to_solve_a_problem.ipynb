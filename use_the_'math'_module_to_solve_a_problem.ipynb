{
  "nbformat": 4,
  "nbformat_minor": 0,
  "metadata": {
    "colab": {
      "provenance": []
    },
    "kernelspec": {
      "name": "python3",
      "display_name": "Python 3"
    },
    "language_info": {
      "name": "python"
    }
  },
  "cells": [
    {
      "cell_type": "code",
      "execution_count": null,
      "metadata": {
        "id": "LdPwxjExaQAE"
      },
      "outputs": [],
      "source": [
        "import math\n",
        "angle=float(input(\"enter an angle in degrees:\"))\n",
        "radian=math.radians(angle)\n",
        "print(\"sine of angle:\",math.sin(radian))\n",
        "print(\"cosine of angle:\",math.cos(radian))"
      ]
    }
  ]
}