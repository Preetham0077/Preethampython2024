{
  "nbformat": 4,
  "nbformat_minor": 0,
  "metadata": {
    "colab": {
      "provenance": []
    },
    "kernelspec": {
      "name": "python3",
      "display_name": "Python 3"
    },
    "language_info": {
      "name": "python"
    }
  },
  "cells": [
    {
      "cell_type": "code",
      "source": [
        "list1=[1,2,3]\n",
        "list2=[4,5,6]\n",
        "merged_list=list1+list2\n",
        "print(\"merged list:\",merged_list)"
      ],
      "metadata": {
        "id": "_Q_WXok_q_pv"
      },
      "execution_count": null,
      "outputs": []
    }
  ]
}