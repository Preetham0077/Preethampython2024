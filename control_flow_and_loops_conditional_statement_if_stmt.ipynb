{
  "nbformat": 4,
  "nbformat_minor": 0,
  "metadata": {
    "colab": {
      "provenance": []
    },
    "kernelspec": {
      "name": "python3",
      "display_name": "Python 3"
    },
    "language_info": {
      "name": "python"
    }
  },
  "cells": [
    {
      "cell_type": "code",
      "execution_count": null,
      "metadata": {
        "id": "BHpmMzTiPwQg"
      },
      "outputs": [],
      "source": [
        "age=18\n",
        "if age>=18:\n",
        "  print(\"you are eligible to vote.\")\n"
      ]
    }
  ]
}