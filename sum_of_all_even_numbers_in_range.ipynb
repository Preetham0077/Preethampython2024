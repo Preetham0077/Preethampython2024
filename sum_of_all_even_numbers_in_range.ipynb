{
  "nbformat": 4,
  "nbformat_minor": 0,
  "metadata": {
    "colab": {
      "provenance": []
    },
    "kernelspec": {
      "name": "python3",
      "display_name": "Python 3"
    },
    "language_info": {
      "name": "python"
    }
  },
  "cells": [
    {
      "cell_type": "code",
      "execution_count": null,
      "metadata": {
        "id": "hwxAVvd9pQLJ"
      },
      "outputs": [],
      "source": [
        "start=int(input(\"enter start of range:\"))\n",
        "end=int(input(\"enter end of range:\"))\n",
        "even num=0\n",
        "for num in range(start,end+1):\n",
        "  if num%2==0:\n",
        "    even sum+=num\n",
        "  print(\"sum of even number:\",even sum)"
      ]
    }
  ]
}