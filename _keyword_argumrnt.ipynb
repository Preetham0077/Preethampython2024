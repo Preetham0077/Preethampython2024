{
  "nbformat": 4,
  "nbformat_minor": 0,
  "metadata": {
    "colab": {
      "provenance": []
    },
    "kernelspec": {
      "name": "python3",
      "display_name": "Python 3"
    },
    "language_info": {
      "name": "python"
    }
  },
  "cells": [
    {
      "cell_type": "code",
      "execution_count": null,
      "metadata": {
        "id": "KDQZ0ZMmA0Gc"
      },
      "outputs": [],
      "source": [
        "def sum_numbers(*numbers):\n",
        "  return sum(numbers)\n",
        "print(sum_numbers(1,2,3,4))"
      ]
    }
  ]
}