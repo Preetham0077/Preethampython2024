{
  "nbformat": 4,
  "nbformat_minor": 0,
  "metadata": {
    "colab": {
      "provenance": []
    },
    "kernelspec": {
      "name": "python3",
      "display_name": "Python 3"
    },
    "language_info": {
      "name": "python"
    }
  },
  "cells": [
    {
      "cell_type": "code",
      "execution_count": null,
      "metadata": {
        "id": "KBtt3fdl-f1K"
      },
      "outputs": [],
      "source": [
        "file=open(\"/content/preeth.txt\",\"w\")\n",
        "file.write(\"hello,world!\\n\")\n",
        "file.close()"
      ]
    }
  ]
}