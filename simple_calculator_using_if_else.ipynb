{
  "nbformat": 4,
  "nbformat_minor": 0,
  "metadata": {
    "colab": {
      "provenance": []
    },
    "kernelspec": {
      "name": "python3",
      "display_name": "Python 3"
    },
    "language_info": {
      "name": "python"
    }
  },
  "cells": [
    {
      "cell_type": "code",
      "execution_count": null,
      "metadata": {
        "id": "CBjvf7zBoDWm"
      },
      "outputs": [],
      "source": [
        "\n",
        "  num1 = float(input(\"enter first number:\"))\n",
        "  num2 = float(input(\"enter second number\"))\n",
        "  operation = input(\"enter poeration(+,-,*,/,//,%,**):\")\n",
        "  if operation == '+':\n",
        "    print(\"result:\", num1 + num2)\n",
        "  elif operation == '-':\n",
        "    print(\"result:\", num1 - num2)\n",
        "  elif operation == '*':\n",
        "    print(\"result:\", num1 * num2)\n",
        "  elif operation == '/':\n",
        "    print(\"result:\", num1 / num2)\n",
        "  elif operation == '//':\n",
        "    print(\"result:\", num1 // num2)\n",
        "  elif operation == '%':\n",
        "    print(\"result:\", num1 % num2)\n",
        "  elif operation == '**':\n",
        "    print(\"result:\", num1 ** num2)\n",
        "  else:\n",
        "    print(\"invalid operation\")"
      ]
    }
  ]
}