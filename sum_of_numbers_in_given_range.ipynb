{
  "nbformat": 4,
  "nbformat_minor": 0,
  "metadata": {
    "colab": {
      "provenance": []
    },
    "kernelspec": {
      "name": "python3",
      "display_name": "Python 3"
    },
    "language_info": {
      "name": "python"
    }
  },
  "cells": [
    {
      "cell_type": "code",
      "execution_count": null,
      "metadata": {
        "id": "JgYF33oenIVA"
      },
      "outputs": [],
      "source": [
        "start=int(input(\"ener the start of the range:\"))\n",
        "end=int(input(\"enter the end of the range:\"))\n",
        "sum=0\n",
        "for i in range(start, end+1):\n",
        "  sum+=i\n",
        "print(\"the sum is:\", sum)"
      ]
    }
  ]
}