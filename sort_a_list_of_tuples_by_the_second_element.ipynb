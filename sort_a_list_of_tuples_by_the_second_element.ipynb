{
  "nbformat": 4,
  "nbformat_minor": 0,
  "metadata": {
    "colab": {
      "provenance": []
    },
    "kernelspec": {
      "name": "python3",
      "display_name": "Python 3"
    },
    "language_info": {
      "name": "python"
    }
  },
  "cells": [
    {
      "cell_type": "code",
      "execution_count": null,
      "metadata": {
        "id": "9FGR5dqCnndw"
      },
      "outputs": [],
      "source": [
        "tuples=[(1,'apple'),(2,'banana'),(3,'cherry')]\n",
        "sorted_tuples=sorted(tuples,key=lambda x:x[1])\n",
        "print(\"sorted tuples:\",sorted_tuples)"
      ]
    }
  ]
}