{
  "nbformat": 4,
  "nbformat_minor": 0,
  "metadata": {
    "colab": {
      "provenance": []
    },
    "kernelspec": {
      "name": "python3",
      "display_name": "Python 3"
    },
    "language_info": {
      "name": "python"
    }
  },
  "cells": [
    {
      "cell_type": "code",
      "execution_count": null,
      "metadata": {
        "id": "9yNYYJyUobCs"
      },
      "outputs": [],
      "source": [
        "year=int(input(\"enter a year\"))\n",
        "if(year%4==0 and year%100!=0)or(year%400==0):\n",
        "  print(\"leap year\")\n",
        "else:\n",
        "  print(\"not a leap year\")"
      ]
    }
  ]
}