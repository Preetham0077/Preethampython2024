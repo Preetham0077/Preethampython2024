{
  "nbformat": 4,
  "nbformat_minor": 0,
  "metadata": {
    "colab": {
      "provenance": []
    },
    "kernelspec": {
      "name": "python3",
      "display_name": "Python 3"
    },
    "language_info": {
      "name": "python"
    }
  },
  "cells": [
    {
      "cell_type": "code",
      "source": [
        "def describe_person(**details):\n",
        "    for key, value in details.items():\n",
        "      print(f\"{key}: {value}\")\n",
        "\n",
        "describe_person(name=\"nayan\", age=19, city=\"tumur\")"
      ],
      "metadata": {
        "id": "BsuNlQiuBJ9m"
      },
      "execution_count": null,
      "outputs": []
    }
  ]
}