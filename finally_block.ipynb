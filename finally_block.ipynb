{
  "nbformat": 4,
  "nbformat_minor": 0,
  "metadata": {
    "colab": {
      "provenance": []
    },
    "kernelspec": {
      "name": "python3",
      "display_name": "Python 3"
    },
    "language_info": {
      "name": "python"
    }
  },
  "cells": [
    {
      "cell_type": "code",
      "execution_count": null,
      "metadata": {
        "id": "G7Ocgt4A__2g"
      },
      "outputs": [],
      "source": [
        "try:\n",
        "  file=open(\"/content/preeth.txt\",\"r\")\n",
        "except FileNotFoundError:\n",
        "  print(\"File not found\")\n",
        "finally:\n",
        "  print(\"execution complete.\")"
      ]
    }
  ]
}