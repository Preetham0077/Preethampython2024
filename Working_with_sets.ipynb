{
  "nbformat": 4,
  "nbformat_minor": 0,
  "metadata": {
    "colab": {
      "provenance": []
    },
    "kernelspec": {
      "name": "python3",
      "display_name": "Python 3"
    },
    "language_info": {
      "name": "python"
    }
  },
  "cells": [
    {
      "cell_type": "code",
      "execution_count": null,
      "metadata": {
        "id": "X6dgaYdtqsmj"
      },
      "outputs": [],
      "source": [
        "set1={1,2,3,4,}\n",
        "set2={3,4,5,6}\n",
        "print(\"union:\",set1|set2)\n",
        "print(\"intersection:\",set1&set2)\n",
        "print(\"difference:\",set1-set2)"
      ]
    }
  ]
}